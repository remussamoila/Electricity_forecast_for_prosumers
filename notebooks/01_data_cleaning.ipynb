{
 "cells": [
  {
   "cell_type": "code",
   "execution_count": null,
   "id": "1f9becc2",
   "metadata": {},
   "outputs": [],
   "source": [
    "# Step 1: Extract and Load Weather Data from ECA&D Archive"
   ]
  },
  {
   "cell_type": "code",
   "execution_count": null,
   "id": "2dd457de",
   "metadata": {},
   "outputs": [],
   "source": [
    "import zipfile\n",
    "import os\n",
    "import pandas as pd\n",
    "from glob import glob\n",
    "from io import StringIO"
   ]
  },
  {
   "cell_type": "code",
   "execution_count": null,
   "id": "b8c775c5",
   "metadata": {},
   "outputs": [],
   "source": [
    "# Define paths\n",
    "zip_path = \"../data/ECA_blended_custom.zip\"\n",
    "extract_path = \"../data/eca_extracted\""
   ]
  },
  {
   "cell_type": "code",
   "execution_count": null,
   "id": "3d1d7ccc",
   "metadata": {},
   "outputs": [],
   "source": [
    "# Ensure extraction directory exists\n",
    "os.makedirs(extract_path, exist_ok=True)"
   ]
  },
  {
   "cell_type": "code",
   "execution_count": null,
   "id": "0fc0373d",
   "metadata": {},
   "outputs": [],
   "source": [
    "# Extract the ZIP file\n",
    "with zipfile.ZipFile(zip_path, 'r') as zip_ref:\n",
    "    zip_ref.extractall(extract_path)"
   ]
  },
  {
   "cell_type": "code",
   "execution_count": null,
   "id": "81f0f3fc",
   "metadata": {},
   "outputs": [],
   "source": [
    "# Function to load a single station file\n",
    "def load_station_file(filepath):\n",
    "    with open(filepath, 'r', encoding='utf-8') as f:\n",
    "        lines = f.readlines()"
   ]
  },
  {
   "cell_type": "code",
   "execution_count": null,
   "id": "ae94b094",
   "metadata": {},
   "outputs": [],
   "source": [
    "try:\n",
    "        header_index = next(i for i, line in enumerate(lines) if line.strip().startswith(\"SOUID\"))\n",
    "    except StopIteration:\n",
    "        print(f\"Skipping {filepath} — header not found.\")\n",
    "        return None"
   ]
  },
  {
   "cell_type": "code",
   "execution_count": null,
   "id": "0a2d9965",
   "metadata": {},
   "outputs": [],
   "source": [
    "data_lines = lines[header_index + 1:]\n",
    "    data_str = ''.join(data_lines)"
   ]
  },
  {
   "cell_type": "code",
   "execution_count": null,
   "id": "8fb364b5",
   "metadata": {},
   "outputs": [],
   "source": [
    "try:\n",
    "        df = pd.read_csv(StringIO(data_str), skipinitialspace=True)\n",
    "    except Exception as e:\n",
    "        print(f\"Error reading {filepath}: {e}\")\n",
    "        return None"
   ]
  },
  {
   "cell_type": "code",
   "execution_count": null,
   "id": "266af395",
   "metadata": {},
   "outputs": [],
   "source": [
    "staid = os.path.basename(filepath).split(\"STAID\")[1].split(\".\")[0]\n",
    "    df[\"STAID\"] = int(staid)\n",
    "    return df"
   ]
  },
  {
   "cell_type": "code",
   "execution_count": null,
   "id": "a84dc390",
   "metadata": {},
   "outputs": [],
   "source": [
    "# Load and concatenate all station data\n",
    "station_files = glob(os.path.join(extract_path, \"FG_STAID*.txt\"))"
   ]
  },
  {
   "cell_type": "code",
   "execution_count": null,
   "id": "f0cdfec7",
   "metadata": {},
   "outputs": [],
   "source": [
    "all_dfs = []\n",
    "for f in station_files:\n",
    "    df = load_station_file(f)\n",
    "    if df is not None:\n",
    "        all_dfs.append(df)"
   ]
  },
  {
   "cell_type": "code",
   "execution_count": null,
   "id": "439dea1b",
   "metadata": {},
   "outputs": [],
   "source": [
    "if not all_dfs:\n",
    "    raise RuntimeError(\"No valid station data could be loaded.\")"
   ]
  },
  {
   "cell_type": "code",
   "execution_count": null,
   "id": "7aa81293",
   "metadata": {},
   "outputs": [],
   "source": [
    "all_data = pd.concat(all_dfs, ignore_index=True)"
   ]
  },
  {
   "cell_type": "code",
   "execution_count": null,
   "id": "31126744",
   "metadata": {},
   "outputs": [],
   "source": [
    "# Preview data\n",
    "print(all_data.head())\n",
    "print(all_data.info())"
   ]
  },
  {
   "cell_type": "code",
   "execution_count": null,
   "id": "f0c81956",
   "metadata": {},
   "outputs": [],
   "source": [
    "# Replace missing values (-9999) with NaN and scale FG (0.1 m/s -> m/s)\n",
    "all_data['FG'] = all_data['FG'].replace(-9999, pd.NA).astype('float') / 10.0"
   ]
  },
  {
   "cell_type": "code",
   "execution_count": null,
   "id": "cf29a796",
   "metadata": {},
   "outputs": [],
   "source": [
    "# Convert DATE column to datetime format\n",
    "all_data['DATE'] = pd.to_datetime(all_data['DATE'], format='%Y%m%d', errors='coerce')"
   ]
  },
  {
   "cell_type": "code",
   "execution_count": null,
   "id": "1c31332a",
   "metadata": {},
   "outputs": [],
   "source": [
    "# Drop rows with invalid dates\n",
    "all_data = all_data.dropna(subset=['DATE'])"
   ]
  },
  {
   "cell_type": "code",
   "execution_count": null,
   "id": "2a07161b",
   "metadata": {},
   "outputs": [],
   "source": [
    "# Optional: Keep only valid quality codes (Q_FG == 0)\n",
    "all_data = all_data[all_data['Q_FG'] == 0]"
   ]
  },
  {
   "cell_type": "code",
   "execution_count": null,
   "id": "3f88e080",
   "metadata": {},
   "outputs": [],
   "source": [
    "# Save cleaned dataset for future use\n",
    "output_path = \"../data/cleaned_wind_speed_all_stations.csv\"\n",
    "os.makedirs(os.path.dirname(output_path), exist_ok=True)\n",
    "all_data.to_csv(output_path, index=False)"
   ]
  },
  {
   "cell_type": "code",
   "execution_count": null,
   "id": "24113881",
   "metadata": {},
   "outputs": [],
   "source": [
    "print(f\"\\nCleaned dataset saved to: {output_path}\")"
   ]
  }
 ],
 "metadata": {},
 "nbformat": 4,
 "nbformat_minor": 5
}
